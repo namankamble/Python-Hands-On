{
 "cells": [
  {
   "cell_type": "markdown",
   "id": "d3e03a58-02b2-4c0e-995c-e4a365a870a7",
   "metadata": {},
   "source": [
    "***\n",
    "# ***Python and Memory Management***\n",
    "***"
   ]
  },
  {
   "cell_type": "markdown",
   "id": "470a5322-3835-4332-8148-7c9c7887dc9d",
   "metadata": {},
   "source": [
    "**Memory management** in Python involves a private heap containing all Python objects and data structures. The management of this private heap is ensured internally by the Python memory manager. The Python memory manager has different components which deal with various dynamic storage management aspects, like sharing, segmentation, preallocation or caching.\n",
    "\n",
    "Memory management involves several key components and concepts, which include:"
   ]
  },
  {
   "cell_type": "markdown",
   "id": "c656a43b-83c3-42cc-8784-b123b7766e79",
   "metadata": {},
   "source": [
    "***`1. Reference Counting`***\n",
    "\n",
    "Reference counting works by counting the number of times an object is referenced by other objects in the system. When references to an object are removed, the reference count for an object is decremented. When the reference count becomes zero, the object is deallocated."
   ]
  },
  {
   "cell_type": "code",
   "execution_count": 1,
   "id": "26b400f5-eda5-4cce-946a-1f1fc1a5fab8",
   "metadata": {},
   "outputs": [],
   "source": [
    "\n",
    "# Example of reference counting\n",
    "a = [1, 2, 3]\n",
    "b = a        # Increase reference count\n",
    "del a        # Decrease reference count\n",
    "# b still holds a reference to the list\n"
   ]
  },
  {
   "cell_type": "markdown",
   "id": "a18036e8-5fbb-4a56-97f8-3f41dc45b98d",
   "metadata": {},
   "source": [
    "***`2. Garbage Collection`***\n",
    "\n",
    "Garbage collection is a process in which the interpreter frees up the memory when not in use to make it available for other objects.\n",
    "Assume a case where no reference is pointing to an object in memory i.e. it is not in use so, the virtual machine has a garbage collector that automatically deletes that object from the heap memory"
   ]
  },
  {
   "cell_type": "code",
   "execution_count": 3,
   "id": "40caed9e-9d62-4790-85f6-64ecf0e47e8c",
   "metadata": {},
   "outputs": [
    {
     "data": {
      "text/plain": [
       "8"
      ]
     },
     "execution_count": 3,
     "metadata": {},
     "output_type": "execute_result"
    }
   ],
   "source": [
    "\n",
    "import gc\n",
    "\n",
    "# Example of garbage collection\n",
    "class Node:\n",
    "    def __init__(self, value):\n",
    "        self.value = value\n",
    "        self.ref = None\n",
    "\n",
    "# Create a circular reference\n",
    "n1 = Node(1)\n",
    "n2 = Node(2)\n",
    "n1.ref = n2\n",
    "n2.ref = n1\n",
    "\n",
    "# Delete references\n",
    "del n1\n",
    "del n2\n",
    "\n",
    "# Manually invoke garbage collector\n",
    "gc.collect()\n"
   ]
  },
  {
   "cell_type": "markdown",
   "id": "b20584c7-6673-4967-bf69-fdefd63b6979",
   "metadata": {},
   "source": [
    "*Python uses a highly optimized memory allocation system which attempts to avoid allocating unnecessary memory. As a result, when one variable is assigned to another, these will actually point to the same data in the computer's memory. To verify this, **id()** can be used to determine the unique identification number of a piece of 2 data.*"
   ]
  },
  {
   "cell_type": "code",
   "execution_count": 6,
   "id": "c7d22aea-d171-4acf-b9f9-33a219f8466d",
   "metadata": {},
   "outputs": [
    {
     "name": "stdout",
     "output_type": "stream",
     "text": [
      "140711992083240\n",
      "140711992083240\n",
      "2026470941296\n",
      "140711992083240\n"
     ]
    }
   ],
   "source": [
    "\n",
    "x=1\n",
    "y=x\n",
    "print(id(x))\n",
    "print(id(y))\n",
    "\n",
    "x=2.0\n",
    "print(id(x))\n",
    "print(id(y))\n"
   ]
  },
  {
   "cell_type": "code",
   "execution_count": null,
   "id": "6e2a8fec-ccb3-4294-aeea-a3f2b04b47c6",
   "metadata": {},
   "outputs": [],
   "source": []
  }
 ],
 "metadata": {
  "kernelspec": {
   "display_name": "Python 3 (ipykernel)",
   "language": "python",
   "name": "python3"
  },
  "language_info": {
   "codemirror_mode": {
    "name": "ipython",
    "version": 3
   },
   "file_extension": ".py",
   "mimetype": "text/x-python",
   "name": "python",
   "nbconvert_exporter": "python",
   "pygments_lexer": "ipython3",
   "version": "3.11.7"
  },
  "widgets": {
   "application/vnd.jupyter.widget-state+json": {
    "state": {},
    "version_major": 2,
    "version_minor": 0
   }
  }
 },
 "nbformat": 4,
 "nbformat_minor": 5
}
