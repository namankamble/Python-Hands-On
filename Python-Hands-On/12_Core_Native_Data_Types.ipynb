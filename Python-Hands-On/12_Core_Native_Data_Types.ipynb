{
 "cells": [
  {
   "cell_type": "markdown",
   "id": "02d5a8f0-3ddb-4155-bd1b-1f375df863f6",
   "metadata": {},
   "source": [
    "***\n",
    "# ***Python (programming language)***\n",
    "***"
   ]
  },
  {
   "cell_type": "markdown",
   "id": "b10982ef-1675-41af-b0e8-12d58895ce74",
   "metadata": {},
   "source": [
    "Python is a **`high-level`** (A high-level programming language is a programming language with strong abstraction (abstraction is the process of generalizing concrete details, such as attributes, away from the study of objects and systems to focus attention on details of greater importance) from the details of the computer.), **`general-purpose programming language`** (a general-purpose programming language (GPL) is a programming language for building software in a wide variety of application domains. Conversely, a domain-specific programming language (DSL) is used within a specific area. For example, Python is a GPL, while SQL is a DSL for querying relational databases.). Its design philosophy emphasizes code readability with the use of **`significant indentation`** (The off-side rule describes syntax of a computer programming language that defines the bounds of a code block via indentation)."
   ]
  },
  {
   "cell_type": "markdown",
   "id": "51d7f30b-8176-472d-ac76-ee5885869215",
   "metadata": {},
   "source": [
    "***\n",
    "## ***Built-in Data Types***\n",
    "***"
   ]
  },
  {
   "cell_type": "markdown",
   "id": "069e1fd9-4923-4388-9aa6-14ec7dbe3677",
   "metadata": {},
   "source": [
    "A **data type** (or simply type) is a collection or grouping of data values (the representation of some entity that can be manipulated by a program), usually specified by a set of possible values, a set of allowed operations on these values, and/or a representation of these values as machine types. A data type specification in a program constrains the possible values that an expression, such as a variable or a function call, might take. On literal data, it tells the compiler or interpreter how the programmer intends to use the data. Most programming languages support basic data types of integer numbers (of varying sizes), floating-point numbers (which approximate real numbers), characters and Booleans."
   ]
  },
  {
   "cell_type": "markdown",
   "id": "bc21244c-9e73-47b4-b543-41e2f56d02b0",
   "metadata": {},
   "source": [
    "***\n",
    "### ***Core Native Data Types***\n",
    "***\n"
   ]
  },
  {
   "cell_type": "markdown",
   "id": "060c2eec-6e55-458c-93a3-2173efb796d4",
   "metadata": {},
   "source": [
    "#### **1. Numeric:**\n",
    "- **`Floating Point (float):`** <br>The float data type represents floating-point numbers, which are numbers that have a decimal point. They can be used to represent both positive and negative numbers, and they are particularly useful for representing real-world quantities that require fractional precision."
   ]
  },
  {
   "cell_type": "code",
   "execution_count": 7,
   "id": "ffc2c58b-ef68-4d4e-b2e7-b0737360b909",
   "metadata": {},
   "outputs": [
    {
     "name": "stdout",
     "output_type": "stream",
     "text": [
      "1\n",
      "<class 'int'>\n",
      "1.0\n",
      "<class 'float'>\n",
      "1.0\n",
      "<class 'float'>\n"
     ]
    }
   ],
   "source": [
    "\n",
    "x = 1\n",
    "print(x)\n",
    "print(type(x))\n",
    "\n",
    "x = 1.0\n",
    "print(x)\n",
    "print(type(x))\n",
    "\n",
    "x = float(1)\n",
    "print(x)\n",
    "print(type(x))\n"
   ]
  },
  {
   "cell_type": "markdown",
   "id": "3e29b716-c841-4c34-ac3b-681b9e8eaa38",
   "metadata": {},
   "source": [
    "- **`Complex (complex):`**<br>The complex data type is used to represent complex numbers. Complex numbers have a real part and an imaginary part, represented as `a + bj`, where *a* is the real part and *b* is the imaginary part."
   ]
  },
  {
   "cell_type": "code",
   "execution_count": 8,
   "id": "c09ddfcd-630d-46e0-a663-3d770ffa20ef",
   "metadata": {},
   "outputs": [
    {
     "name": "stdout",
     "output_type": "stream",
     "text": [
      "Real part: 3.0\n",
      "Imaginary part: 4.0\n",
      "Sum: (4+6j)\n",
      "Difference: (-2-2j)\n",
      "Product: (-5+10j)\n",
      "Quotient: (0.44+0.08j)\n"
     ]
    }
   ],
   "source": [
    "\n",
    "#complex number\n",
    "z = 3 + 4j\n",
    "\n",
    "# Accessing the real and imaginary parts\n",
    "real_part = z.real\n",
    "imaginary_part = z.imag\n",
    "\n",
    "# Performing arithmetic operations\n",
    "z1 = 1 + 2j\n",
    "z2 = 3 + 4j\n",
    "\n",
    "sum_z = z1 + z2         # Addition\n",
    "diff_z = z1 - z2        # Subtraction\n",
    "product_z = z1 * z2     # Multiplication\n",
    "quotient_z = z1 / z2    # Division\n",
    "\n",
    "print(f\"Real part: {real_part}\")\n",
    "print(f\"Imaginary part: {imaginary_part}\")\n",
    "print(f\"Sum: {sum_z}\")\n",
    "print(f\"Difference: {diff_z}\")\n",
    "print(f\"Product: {product_z}\")\n",
    "print(f\"Quotient: {quotient_z}\")\n"
   ]
  },
  {
   "cell_type": "markdown",
   "id": "d2836d80-d316-4b62-96ce-f71e79f9616b",
   "metadata": {},
   "source": [
    "- **` Integers(int):`**<br>The int data type represents integers, which are whole numbers without a fractional component. They can be positive, negative, or zero."
   ]
  },
  {
   "cell_type": "code",
   "execution_count": 9,
   "id": "70d87f65-b884-4634-9a9c-98bfd55aa3a6",
   "metadata": {},
   "outputs": [
    {
     "name": "stdout",
     "output_type": "stream",
     "text": [
      "Sum: 5\n",
      "Difference: 15\n",
      "Product: -50\n",
      "Quotient: -2\n",
      "Remainder: 0\n",
      "Large Integer: 98765432123456789\n"
     ]
    }
   ],
   "source": [
    "\n",
    "#integer variables\n",
    "a = 10\n",
    "b = -5\n",
    "c = 0\n",
    "\n",
    "#arithmetic operations\n",
    "sum_ab = a + b        # Addition\n",
    "diff_ab = a - b       # Subtraction\n",
    "product_ab = a * b    # Multiplication\n",
    "quotient_ab = a // b  # Integer Division\n",
    "remainder_ab = a % b  # Modulus (remainder)\n",
    "\n",
    "print(f\"Sum: {sum_ab}\")\n",
    "print(f\"Difference: {diff_ab}\")\n",
    "print(f\"Product: {product_ab}\")\n",
    "print(f\"Quotient: {quotient_ab}\")\n",
    "print(f\"Remainder: {remainder_ab}\")\n",
    "\n",
    "# Working with large integers\n",
    "large_int = 98765432123456789\n",
    "print(f\"Large Integer: {large_int}\")\n"
   ]
  },
  {
   "cell_type": "markdown",
   "id": "acf7f712-ec57-4553-a987-ee10b7f8c134",
   "metadata": {},
   "source": [
    "#### **2. Boolean(bool):**\n",
    "The bool data type is used to represent boolean values. There are only two boolean values: True and False. Boolean values are commonly used for conditional statements and logical operations."
   ]
  },
  {
   "cell_type": "code",
   "execution_count": 11,
   "id": "0e295450-a073-4d0a-b0a1-67f5fca75fce",
   "metadata": {},
   "outputs": [
    {
     "name": "stdout",
     "output_type": "stream",
     "text": [
      "AND Operation: False\n",
      "OR Operation: True\n",
      "NOT Operation: False\n",
      "x < y: True\n",
      "Boolean of 1: True\n",
      "Boolean of 0: False\n",
      "Boolean of 'Hello': True\n",
      "Boolean of '': False\n"
     ]
    }
   ],
   "source": [
    "\n",
    "# boolean variables\n",
    "a = True\n",
    "b = False\n",
    "\n",
    "# Performing logical operations\n",
    "and_operation = a and b   # Logical AND\n",
    "or_operation = a or b     # Logical OR\n",
    "not_operation = not a     # Logical NOT\n",
    "\n",
    "print(f\"AND Operation: {and_operation}\")\n",
    "print(f\"OR Operation: {or_operation}\")\n",
    "print(f\"NOT Operation: {not_operation}\")\n",
    "\n",
    "# Using boolean values in conditional statements\n",
    "x = 5\n",
    "y = 10\n",
    "\n",
    "if x < y:\n",
    "    result = True\n",
    "else:\n",
    "    result = False\n",
    "\n",
    "print(f\"x < y: {result}\")\n",
    "\n",
    "# Converting other data types to boolean\n",
    "bool_int = bool(1)      # Converts integer to boolean (non-zero values are True)\n",
    "bool_zero = bool(0)     # Converts integer to boolean (zero is False)\n",
    "bool_str = bool(\"Hello\")  # Converts string to boolean (non-empty strings are True)\n",
    "bool_empty_str = bool(\"\") # Converts string to boolean (empty string is False)\n",
    "\n",
    "print(f\"Boolean of 1: {bool_int}\")\n",
    "print(f\"Boolean of 0: {bool_zero}\")\n",
    "print(f\"Boolean of 'Hello': {bool_str}\")\n",
    "print(f\"Boolean of '': {bool_empty_str}\")\n"
   ]
  },
  {
   "cell_type": "markdown",
   "id": "fb2dbd3e-1488-44ad-b1a3-df7ae1e110ec",
   "metadata": {},
   "source": [
    "#### **3. Strings (str):** \n",
    "The str data type represents strings, which are sequences of characters enclosed in either single quotes ('), double quotes (\"), or triple quotes (''' or \"\"\") for multi-line strings. Strings are used to handle text and are very versatile in Python."
   ]
  },
  {
   "cell_type": "code",
   "execution_count": 12,
   "id": "92e9fb99-f184-481f-9e36-b06915e1bfb2",
   "metadata": {},
   "outputs": [
    {
     "name": "stdout",
     "output_type": "stream",
     "text": [
      "String 1: Hello, World!\n",
      "String 2: Python is awesome!\n",
      "String 3: This is a \n",
      "multi-line string.\n",
      "Concatenated String: Hello, World! Python is awesome!\n",
      "First Character of String 1: H\n",
      "Substring of String 2: is awes\n",
      "Uppercase String 1: HELLO, WORLD!\n",
      "Lowercase String 2: python is awesome!\n",
      "Replaced String 2: Python is great!\n"
     ]
    }
   ],
   "source": [
    "\n",
    "# string variables\n",
    "str1 = \"Hello, World!\"\n",
    "str2 = 'Python is awesome!'\n",
    "str3 = \"\"\"This is a \n",
    "multi-line string.\"\"\"\n",
    "\n",
    "# Concatenating strings\n",
    "concatenated_str = str1 + \" \" + str2\n",
    "\n",
    "# Accessing characters and slicing strings\n",
    "first_char = str1[0]          # First character\n",
    "substring = str2[7:14]        # Substring from index 7 to 13\n",
    "\n",
    "# Using string methods\n",
    "uppercase_str = str1.upper()  # Convert to uppercase\n",
    "lowercase_str = str2.lower()  # Convert to lowercase\n",
    "replaced_str = str2.replace(\"awesome\", \"great\")  # Replace a substring\n",
    "\n",
    "print(f\"String 1: {str1}\")\n",
    "print(f\"String 2: {str2}\")\n",
    "print(f\"String 3: {str3}\")\n",
    "print(f\"Concatenated String: {concatenated_str}\")\n",
    "print(f\"First Character of String 1: {first_char}\")\n",
    "print(f\"Substring of String 2: {substring}\")\n",
    "print(f\"Uppercase String 1: {uppercase_str}\")\n",
    "print(f\"Lowercase String 2: {lowercase_str}\")\n",
    "print(f\"Replaced String 2: {replaced_str}\")\n"
   ]
  },
  {
   "cell_type": "markdown",
   "id": "0219bf49-4b15-4703-b716-92b80fbe5629",
   "metadata": {},
   "source": [
    "**`String Methods:`** Strings in Python come with a variety of built-in methods. Here are a few commonly used ones:\n",
    "\n",
    " - `len(string):` Returns the length of the string.\n",
    " - `str.upper():` Converts all characters to uppercase.\n",
    " - `str.lower():` Converts all characters to lowercase.\n",
    " - `str.strip():` Removes leading and trailing whitespace.\n",
    " - `str.split(delimiter):` Splits the string into a list of substrings using the specified delimiter.\n",
    " - `str.join(iterable):` Joins elements of an iterable (e.g., list) into a single string with the string as the delimiter.\n",
    "\n",
    "**`Slicing Strings:`** String slicing is a powerful feature in Python that allows you to extract specific parts of a string based on defined indices.\n",
    "\n",
    " - `Slicing Syntax:` The general syntax for slicing a string is s[start:end:step], where:\n",
    "\n",
    "   - **`start:`** The starting index (inclusive).\n",
    "   - **`end:`** The ending index (exclusive).\n",
    "   - **`step:`** The step size (optional, defaults to 1)."
   ]
  },
  {
   "cell_type": "code",
   "execution_count": 15,
   "id": "aaabfc02-c3f1-48d6-98ee-5eb705523b84",
   "metadata": {},
   "outputs": [
    {
     "data": {
      "text/html": [
       "<div>\n",
       "<style scoped>\n",
       "    .dataframe tbody tr th:only-of-type {\n",
       "        vertical-align: middle;\n",
       "    }\n",
       "\n",
       "    .dataframe tbody tr th {\n",
       "        vertical-align: top;\n",
       "    }\n",
       "\n",
       "    .dataframe thead th {\n",
       "        text-align: right;\n",
       "    }\n",
       "</style>\n",
       "<table border=\"1\" class=\"dataframe\">\n",
       "  <thead>\n",
       "    <tr style=\"text-align: right;\">\n",
       "      <th></th>\n",
       "      <th>Slice</th>\n",
       "      <th>Behavior</th>\n",
       "      <th>Example</th>\n",
       "    </tr>\n",
       "  </thead>\n",
       "  <tbody>\n",
       "    <tr>\n",
       "      <th>0</th>\n",
       "      <td>s[:]</td>\n",
       "      <td>Entire string</td>\n",
       "      <td>s[:]</td>\n",
       "    </tr>\n",
       "    <tr>\n",
       "      <th>1</th>\n",
       "      <td>s[i:]</td>\n",
       "      <td>Characters from index i to end</td>\n",
       "      <td>s[7:]</td>\n",
       "    </tr>\n",
       "    <tr>\n",
       "      <th>2</th>\n",
       "      <td>s[:i]</td>\n",
       "      <td>Characters from start to index i</td>\n",
       "      <td>s[:5]</td>\n",
       "    </tr>\n",
       "    <tr>\n",
       "      <th>3</th>\n",
       "      <td>s[i:j]</td>\n",
       "      <td>Characters from index i to j-1</td>\n",
       "      <td>s[7:12]</td>\n",
       "    </tr>\n",
       "    <tr>\n",
       "      <th>4</th>\n",
       "      <td>s[i:j:m]</td>\n",
       "      <td>Characters from i to j-1 with step m</td>\n",
       "      <td>s[0:12:2]</td>\n",
       "    </tr>\n",
       "    <tr>\n",
       "      <th>5</th>\n",
       "      <td>s[i:]</td>\n",
       "      <td>Characters from index i to end with step 1</td>\n",
       "      <td>s[2:]</td>\n",
       "    </tr>\n",
       "    <tr>\n",
       "      <th>6</th>\n",
       "      <td>s[:i]</td>\n",
       "      <td>Characters from start to index i with step 1</td>\n",
       "      <td>s[:4]</td>\n",
       "    </tr>\n",
       "    <tr>\n",
       "      <th>7</th>\n",
       "      <td>s[j:i]</td>\n",
       "      <td>Characters from index j to i</td>\n",
       "      <td>s[1:4]</td>\n",
       "    </tr>\n",
       "    <tr>\n",
       "      <th>8</th>\n",
       "      <td>s[:]</td>\n",
       "      <td>Entire string with step size n = 1</td>\n",
       "      <td>s[:]</td>\n",
       "    </tr>\n",
       "    <tr>\n",
       "      <th>9</th>\n",
       "      <td>s[i:j:m]</td>\n",
       "      <td>Characters from i to j-1 with step m</td>\n",
       "      <td>s[1:10:2]</td>\n",
       "    </tr>\n",
       "    <tr>\n",
       "      <th>10</th>\n",
       "      <td>s[-i:]</td>\n",
       "      <td>Characters from index -i to end</td>\n",
       "      <td>s[-5:]</td>\n",
       "    </tr>\n",
       "    <tr>\n",
       "      <th>11</th>\n",
       "      <td>s[::-1]</td>\n",
       "      <td>Reverse string</td>\n",
       "      <td>s[::-1]</td>\n",
       "    </tr>\n",
       "  </tbody>\n",
       "</table>\n",
       "</div>"
      ],
      "text/plain": [
       "       Slice                                      Behavior    Example\n",
       "0       s[:]                                 Entire string       s[:]\n",
       "1      s[i:]                Characters from index i to end      s[7:]\n",
       "2      s[:i]              Characters from start to index i      s[:5]\n",
       "3     s[i:j]                Characters from index i to j-1    s[7:12]\n",
       "4   s[i:j:m]          Characters from i to j-1 with step m  s[0:12:2]\n",
       "5      s[i:]    Characters from index i to end with step 1      s[2:]\n",
       "6      s[:i]  Characters from start to index i with step 1      s[:4]\n",
       "7     s[j:i]                  Characters from index j to i     s[1:4]\n",
       "8       s[:]            Entire string with step size n = 1       s[:]\n",
       "9   s[i:j:m]          Characters from i to j-1 with step m  s[1:10:2]\n",
       "10    s[-i:]               Characters from index -i to end     s[-5:]\n",
       "11   s[::-1]                                Reverse string    s[::-1]"
      ]
     },
     "metadata": {},
     "output_type": "display_data"
    }
   ],
   "source": [
    "\n",
    "summary = {\n",
    "    \"Slice\": [\"s[:]\", \"s[i:]\", \"s[:i]\", \"s[i:j]\", \"s[i:j:m]\", \"s[i:]\", \"s[:i]\", \"s[j:i]\", \"s[:]\", \"s[i:j:m]\", \"s[-i:]\", \"s[::-1]\"],\n",
    "    \"Behavior\": [\n",
    "        \"Entire string\",\n",
    "        \"Characters from index i to end\",\n",
    "        \"Characters from start to index i\",\n",
    "        \"Characters from index i to j-1\",\n",
    "        \"Characters from i to j-1 with step m\",\n",
    "        \"Characters from index i to end with step 1\",\n",
    "        \"Characters from start to index i with step 1\",\n",
    "        \"Characters from index j to i\",\n",
    "        \"Entire string with step size n = 1\",\n",
    "        \"Characters from i to j-1 with step m\",\n",
    "        \"Characters from index -i to end\",\n",
    "        \"Reverse string\"\n",
    "    ],\n",
    "    \"Example\": [\n",
    "        \"s[:]\",\n",
    "        \"s[7:]\",\n",
    "        \"s[:5]\",\n",
    "        \"s[7:12]\",\n",
    "        \"s[0:12:2]\",\n",
    "        \"s[2:]\",\n",
    "        \"s[:4]\",\n",
    "        \"s[1:4]\",\n",
    "        \"s[:]\",\n",
    "        \"s[1:10:2]\",\n",
    "        \"s[-5:]\",\n",
    "        \"s[::-1]\"\n",
    "    ]\n",
    "}\n",
    "\n",
    "import pandas as pd\n",
    "Slicing = pd.DataFrame(summary)\n",
    "display(Slicing)\n"
   ]
  },
  {
   "cell_type": "markdown",
   "id": "9e0cf634-0468-48bd-a28f-d07ac5c83993",
   "metadata": {},
   "source": [
    "#### **4. Lists(list):**\n",
    "a list is a versatile data type that allows you to store a collection of items. Lists can contain elements of different data types, including integers, floats, strings, and even other lists. They are mutable, meaning you can change their contents after creation."
   ]
  },
  {
   "cell_type": "code",
   "execution_count": 22,
   "id": "7e35b667-c29a-4d07-ba24-268f6c1249e6",
   "metadata": {},
   "outputs": [
    {
     "name": "stdout",
     "output_type": "stream",
     "text": [
      "<class 'list'>\n",
      "[1, 2, 3, 4]\n",
      "[[1, 2, 3, 4], [5, 6, 7, 8]]\n",
      "[[1, 2, 3, 4], [5, 6, 7]]\n",
      "[1, 1.0, (1+0j), 'one', None, True]\n"
     ]
    }
   ],
   "source": [
    "\n",
    "x=[]\n",
    "print(type(x))\n",
    "\n",
    "x=[1,2,3,4]\n",
    "print(x)\n",
    "\n",
    "#2-dimensionallist(listoflists)\n",
    "x=[[1,2,3,4],[5,6,7,8]]\n",
    "print(x)\n",
    "\n",
    "#Jaggedlist, notrectangular\n",
    "x=[[1,2,3,4],[5,6,7]]\n",
    "print(x)\n",
    "\n",
    "#Mixeddata types\n",
    "x=[1,1.0,1+0j,'one',None,True]\n",
    "print(x)\n"
   ]
  },
  {
   "cell_type": "markdown",
   "id": "71ba3a66-5be2-4d90-9038-b3605b59c182",
   "metadata": {},
   "source": [
    "**`Slicing Lists:`** Slicing lists in Python is similar to slicing strings. It allows you to extract a portion of the list based on specified indices. The general syntax for slicing a list is list **[start : end : step]**, where:\n",
    "\n",
    " - **`start`** is the starting index (inclusive).\n",
    " - **`end`** is the ending index (exclusive).\n",
    " - **`step`** is the step size or the stride (optional, default is 1).\n",
    "\n",
    "Here's a summary table for list slicing in Python\n",
    "\n",
    "| Slice         | Behavior                                  | Example          | Output            |\n",
    "|---------------|-------------------------------------------|------------------|-------------------|\n",
    "| `list[:]`     | Entire list                               | `list[:]`        | `[1, 2, 3, 4, 5, 6]` |\n",
    "| `list[i:]`    | Elements from index `i` to end            | `list[2:]`       | `[3, 4, 5, 6]`    |\n",
    "| `list[:i]`    | Elements from start to index `i`          | `list[:4]`       | `[1, 2, 3, 4]`    |\n",
    "| `list[i:j]`   | Elements from index `i` to `j-1`          | `list[2:5]`      | `[3, 4, 5]`       |\n",
    "| `list[i:j:m]` | Elements from `i` to `j-1` with step `m`  | `list[1:6:2]`    | `[2, 4, 6]`       |\n",
    "| `list[::-1]`  | Reverse the list                          | `list[::-1]`     | `[6, 5, 4, 3, 2, 1]` |\n",
    "| `list[-i:]`   | Last `i` elements                         | `list[-2:]`      | `[5, 6]`          |\n",
    "| `list[::2]`   | Every second element                      | `list[::2]`      | `[1, 3, 5]`       |\n"
   ]
  },
  {
   "cell_type": "code",
   "execution_count": 23,
   "id": "864990c8-3967-4868-af9f-1da377d26220",
   "metadata": {},
   "outputs": [
    {
     "name": "stdout",
     "output_type": "stream",
     "text": [
      "Entire List: [1, 2, 3, 4, 5, 6]\n",
      "From Index i to End: [3, 4, 5, 6]\n",
      "From Start to Index i: [1, 2, 3, 4]\n",
      "From Index i to Index j: [3, 4, 5]\n",
      "With Step Size m: [2, 4, 6]\n",
      "Reverse List: [6, 5, 4, 3, 2, 1]\n",
      "Last Two Elements: [5, 6]\n",
      "Skipping Elements: [1, 3, 5]\n"
     ]
    }
   ],
   "source": [
    "\n",
    "# List slicing examples\n",
    "my_list = [1, 2, 3, 4, 5, 6]\n",
    "\n",
    "# Entire List\n",
    "entire_list = my_list[:]\n",
    "print(\"Entire List:\", entire_list) \n",
    "\n",
    "# From Index i to End\n",
    "i = 2\n",
    "from_i_to_end = my_list[i:]\n",
    "print(\"From Index i to End:\", from_i_to_end)  \n",
    "\n",
    "# From Start to Index i\n",
    "i = 4\n",
    "from_start_to_i = my_list[:i]\n",
    "print(\"From Start to Index i:\", from_start_to_i) \n",
    "\n",
    "# From Index i to Index j\n",
    "i = 2\n",
    "j = 5\n",
    "from_i_to_j = my_list[i:j]\n",
    "print(\"From Index i to Index j:\", from_i_to_j) \n",
    "\n",
    "# With Step Size m\n",
    "i = 1\n",
    "j = 6\n",
    "m = 2\n",
    "with_step_size = my_list[i:j:m]\n",
    "print(\"With Step Size m:\", with_step_size) \n",
    "\n",
    "# Reverse List\n",
    "reversed_list = my_list[::-1]\n",
    "print(\"Reverse List:\", reversed_list)  \n",
    "\n",
    "# Negative Indexing\n",
    "last_two_elements = my_list[-2:]\n",
    "print(\"Last Two Elements:\", last_two_elements) \n",
    "\n",
    "# Skipping Elements\n",
    "skip_elements = my_list[::2]\n",
    "print(\"Skipping Elements:\", skip_elements) \n"
   ]
  },
  {
   "cell_type": "markdown",
   "id": "3a3cf286-2f2b-4a95-be24-23e7fdab664b",
   "metadata": {},
   "source": [
    "**`List Functions:`** Python lists come with a variety of built-in methods. Here are a few commonly used ones:\n",
    "\n",
    " - **`append():`** Adds an element to the end of the list.\n",
    " - **`insert():`** Inserts an element at a specified index.\n",
    " - **`remove():`** Removes the first occurrence of a specified element.\n",
    " - **`pop():`** Removes and returns the element at a specified index.\n",
    " - **`extend():`** Adds elements from another list to the end of the current list.\n",
    " - **`sort():`** Sorts the elements of the list in place.\n",
    " - **`reverse():`** Reverses the elements of the list in place."
   ]
  },
  {
   "cell_type": "code",
   "execution_count": 24,
   "id": "64d6e589-cdf3-42ae-9b8c-b49c4c3a5d9f",
   "metadata": {},
   "outputs": [
    {
     "name": "stdout",
     "output_type": "stream",
     "text": [
      "After append(6): [3, 1, 4, 1, 5, 9, 2, 6]\n",
      "After insert(2, 10): [3, 1, 10, 4, 1, 5, 9, 2, 6]\n",
      "After remove(1): [3, 10, 4, 1, 5, 9, 2, 6]\n",
      "After pop(3): [3, 10, 4, 5, 9, 2, 6]\n",
      "Popped element: 1\n",
      "After extend([7, 8, 9]): [3, 10, 4, 5, 9, 2, 6, 7, 8, 9]\n",
      "After sort(): [2, 3, 4, 5, 6, 7, 8, 9, 9, 10]\n",
      "After reverse(): [10, 9, 9, 8, 7, 6, 5, 4, 3, 2]\n",
      "Length of the list: 10\n",
      "After clear(): []\n"
     ]
    }
   ],
   "source": [
    "\n",
    "# Creating a list\n",
    "my_list = [3, 1, 4, 1, 5, 9, 2]\n",
    "\n",
    "# Appending an element to the end of the list\n",
    "my_list.append(6)\n",
    "print(\"After append(6):\", my_list)  \n",
    "\n",
    "# Inserting an element at a specified index\n",
    "my_list.insert(2, 10)\n",
    "print(\"After insert(2, 10):\", my_list)  \n",
    "\n",
    "# Removing the first occurrence of a specified element\n",
    "my_list.remove(1)\n",
    "print(\"After remove(1):\", my_list)  \n",
    "\n",
    "# Removing and returning the element at a specified index\n",
    "popped_element = my_list.pop(3)\n",
    "print(\"After pop(3):\", my_list)  \n",
    "print(\"Popped element:\", popped_element)  \n",
    "\n",
    "# Extending the list with elements from another list\n",
    "another_list = [7, 8, 9]\n",
    "my_list.extend(another_list)\n",
    "print(\"After extend([7, 8, 9]):\", my_list)  \n",
    "\n",
    "# Sorting the list\n",
    "my_list.sort()\n",
    "print(\"After sort():\", my_list)  \n",
    "\n",
    "# Reversing the list\n",
    "my_list.reverse()\n",
    "print(\"After reverse():\", my_list)  \n",
    "\n",
    "# Length of the list\n",
    "list_length = len(my_list)\n",
    "print(\"Length of the list:\", list_length)  \n",
    "\n",
    "# Clearing the list\n",
    "my_list.clear()\n",
    "print(\"After clear():\", my_list)  \n"
   ]
  },
  {
   "cell_type": "markdown",
   "id": "bfadc9a1-875b-44aa-bcce-c7592887199c",
   "metadata": {},
   "source": [
    "#### **5 Tuples(tuple):**\n",
    "A tuple is a collection of ordered, immutable elements. Unlike lists, tuples cannot be changed after they are created, making them a great choice for storing data that should not be modified. Tuples are defined by enclosing elements in parentheses ().\n",
    "\n",
    "***`Creating a Tuple:`*** You can create a tuple with or without parentheses:"
   ]
  },
  {
   "cell_type": "code",
   "execution_count": 25,
   "id": "302024f6-dde8-4a33-b395-39ed6e854914",
   "metadata": {},
   "outputs": [
    {
     "name": "stdout",
     "output_type": "stream",
     "text": [
      "(1, 2, 3, 'Hello', 3.14)\n",
      "(4, 5, 6)\n",
      "()\n",
      "(42,)\n"
     ]
    }
   ],
   "source": [
    "\n",
    "# Creating a tuple\n",
    "my_tuple = (1, 2, 3, \"Hello\", 3.14)\n",
    "print(my_tuple)\n",
    "\n",
    "# Creating a tuple without parentheses (tuple packing)\n",
    "another_tuple = 4, 5, 6\n",
    "print(another_tuple)\n",
    "\n",
    "# Creating an empty tuple\n",
    "empty_tuple = ()\n",
    "print(empty_tuple)\n",
    "\n",
    "# Creating a single-element tuple (note the comma)\n",
    "single_element_tuple = (42,)\n",
    "print(single_element_tuple)\n"
   ]
  },
  {
   "cell_type": "markdown",
   "id": "47a33204-432b-4c76-a743-e1f035096c96",
   "metadata": {},
   "source": [
    "**`Tuple Functions:`** Tuples come with a few built-in methods:\n",
    "\n",
    " - **`count(x):`** Returns the number of times x appears in the tuple.\n",
    "\n",
    " - **`index(x):`** Returns the index of the first occurrence of x."
   ]
  },
  {
   "cell_type": "code",
   "execution_count": 26,
   "id": "4d21523a-0c79-430b-a2f0-03c42bf562de",
   "metadata": {},
   "outputs": [
    {
     "name": "stdout",
     "output_type": "stream",
     "text": [
      "1 3\n"
     ]
    }
   ],
   "source": [
    "\n",
    "# Tuple methods\n",
    "count_of_3 = my_tuple.count(3)     # Count of element 3\n",
    "index_of_hello = my_tuple.index(\"Hello\")  # Index of element \"Hello\"\n",
    "print(count_of_3, index_of_hello)\n"
   ]
  },
  {
   "cell_type": "markdown",
   "id": "0c55da5a-85d1-439a-8504-896a59d99858",
   "metadata": {},
   "source": [
    "***`Tuple Unpacking`*** You can unpack a tuple into individual variables."
   ]
  },
  {
   "cell_type": "code",
   "execution_count": 27,
   "id": "dd9f5dcb-3248-4cac-b6be-9f1589a512fe",
   "metadata": {},
   "outputs": [
    {
     "name": "stdout",
     "output_type": "stream",
     "text": [
      "1 2 3 Hello 3.14\n"
     ]
    }
   ],
   "source": [
    "\n",
    "# Tuple unpacking\n",
    "a, b, c, d, e = my_tuple\n",
    "print(a, b, c, d, e)\n"
   ]
  },
  {
   "cell_type": "markdown",
   "id": "e50e020b-4ab9-47d0-9643-c84b82a89ee2",
   "metadata": {},
   "source": [
    "***`Nested Tuples:`*** Tuples can contain other tuples."
   ]
  },
  {
   "cell_type": "code",
   "execution_count": 28,
   "id": "2f5285b7-de11-456f-836e-e1fa6c890515",
   "metadata": {},
   "outputs": [
    {
     "name": "stdout",
     "output_type": "stream",
     "text": [
      "(1, 2, (3, 4), 5)\n",
      "4\n"
     ]
    }
   ],
   "source": [
    "\n",
    "# Nested tuples\n",
    "nested_tuple = (1, 2, (3, 4), 5)\n",
    "print(nested_tuple)\n",
    "nested_element = nested_tuple[2][1]\n",
    "print(nested_element)  # Output: 4\n"
   ]
  },
  {
   "cell_type": "markdown",
   "id": "45aa20ac-8ef6-4807-916f-25eca5e19a90",
   "metadata": {},
   "source": [
    "#### **6. Dictionary(dict):**\n",
    "dict (short for dictionary) is a collection of key-value pairs. Dictionaries are mutable, unordered, and indexed by keys, which can be of any immutable data type (such as strings, numbers, or tuples). Values in dictionaries can be of any data type, including other dictionaries.\n",
    "\n",
    "***`Creating a Dictionary:`*** You can create a dictionary using curly braces {} with key-value pairs separated by a colon :"
   ]
  },
  {
   "cell_type": "code",
   "execution_count": 29,
   "id": "08a9af10-1556-48a7-b789-e984522d3fdc",
   "metadata": {},
   "outputs": [
    {
     "name": "stdout",
     "output_type": "stream",
     "text": [
      "{'name': 'Alice', 'age': 30, 'city': 'New York', 'is_student': False}\n"
     ]
    }
   ],
   "source": [
    "\n",
    "# Creating a dictionary\n",
    "my_dict = {\n",
    "    \"name\": \"Alice\",\n",
    "    \"age\": 30,\n",
    "    \"city\": \"New York\",\n",
    "    \"is_student\": False\n",
    "}\n",
    "print(my_dict)\n"
   ]
  },
  {
   "cell_type": "markdown",
   "id": "5a4723e5-d4f9-46d2-8550-5153adebc62e",
   "metadata": {},
   "source": [
    "***`Accessing Values:`*** You can access values in a dictionary using the keys."
   ]
  },
  {
   "cell_type": "code",
   "execution_count": 31,
   "id": "437d2078-7eca-4175-8894-d6bdf9e3385c",
   "metadata": {},
   "outputs": [
    {
     "name": "stdout",
     "output_type": "stream",
     "text": [
      "Alice 30\n"
     ]
    }
   ],
   "source": [
    "\n",
    "# Accessing values\n",
    "name = my_dict[\"name\"]\n",
    "age = my_dict[\"age\"]\n",
    "print(name, age)  # Output: Alice 30\n"
   ]
  },
  {
   "cell_type": "markdown",
   "id": "f0dfce72-0d28-44a1-8261-152f3b431a0e",
   "metadata": {},
   "source": [
    "***`Modifying Values:`*** You can add, modify, or remove key-value pairs in a dictionary."
   ]
  },
  {
   "cell_type": "code",
   "execution_count": 34,
   "id": "6e983dbe-1275-49d4-9508-4896ea0a5adb",
   "metadata": {},
   "outputs": [
    {
     "name": "stdout",
     "output_type": "stream",
     "text": [
      "{'name': 'Alice', 'age': 31, 'city': 'New York', 'occupation': 'Engineer'}\n"
     ]
    }
   ],
   "source": [
    "\n",
    "# Modifying values\n",
    "my_dict[\"age\"] = 31          # Modifying an existing value\n",
    "my_dict[\"occupation\"] = \"Engineer\"  # Adding a new key-value pair\n",
    "del my_dict[\"is_student\"]    # Removing a key-value pair\n",
    "print(my_dict)\n"
   ]
  },
  {
   "cell_type": "markdown",
   "id": "da1280ca-6246-4323-84b4-e9867e5a4cd2",
   "metadata": {},
   "source": [
    "***`Dictionary Methods:`*** dictionaries come with a variety of built-in methods. Here are a few commonly used ones:\n",
    "\n",
    " - **`dict.keys():`** Returns a view object containing the dictionary's keys.\n",
    "\n",
    " - **`dict.values():`** Returns a view object containing the dictionary's values.\n",
    "\n",
    " - **`dict.items():`** Returns a view object containing the dictionary's key-value pairs as tuples.\n",
    "\n",
    " - **`dict.get(key):`** Returns the value for a specified key, or None if the key is not found.\n",
    "\n",
    " - **`dict.pop(key):`** Removes and returns the value for a specified key.\n",
    "\n",
    " - **`dict.update(other_dict):`** Updates the dictionary with key-value pairs from another dictionary or iterable of key-value pairs."
   ]
  },
  {
   "cell_type": "code",
   "execution_count": 35,
   "id": "b6c8ce23-c867-4dc6-a7a4-cdcd8f945194",
   "metadata": {},
   "outputs": [
    {
     "name": "stdout",
     "output_type": "stream",
     "text": [
      "dict_keys(['name', 'age', 'occupation']) dict_values(['Alice', 31, 'Engineer']) dict_items([('name', 'Alice'), ('age', 31), ('occupation', 'Engineer')]) Engineer\n",
      "Removed value: New York\n",
      "After update: {'name': 'Alice', 'age': 31, 'occupation': 'Engineer', 'hobby': 'painting', 'is_employed': True}\n"
     ]
    }
   ],
   "source": [
    "\n",
    "# Dictionary methods\n",
    "keys = my_dict.keys()\n",
    "values = my_dict.values()\n",
    "items = my_dict.items()\n",
    "occupation = my_dict.get(\"occupation\")\n",
    "removed_value = my_dict.pop(\"city\")\n",
    "print(keys, values, items, occupation)\n",
    "print(\"Removed value:\", removed_value)\n",
    "\n",
    "# Updating the dictionary\n",
    "another_dict = {\"hobby\": \"painting\", \"is_employed\": True}\n",
    "my_dict.update(another_dict)\n",
    "print(\"After update:\", my_dict)\n"
   ]
  },
  {
   "cell_type": "markdown",
   "id": "af3bdc4c-e8c2-4827-a774-15f09d25dd4f",
   "metadata": {},
   "source": [
    "***`Nested Dictionaries:`*** Dictionaries can contain other dictionaries, making them useful for representing complex data structures.\n"
   ]
  },
  {
   "cell_type": "code",
   "execution_count": 36,
   "id": "d1668c26-69e3-46c1-93a8-cb009fc93984",
   "metadata": {},
   "outputs": [
    {
     "name": "stdout",
     "output_type": "stream",
     "text": [
      "{'person': {'name': 'Alice', 'age': 30}, 'address': {'city': 'New York', 'zipcode': 10001}}\n",
      "Alice\n"
     ]
    }
   ],
   "source": [
    "\n",
    "# Nested dictionaries\n",
    "nested_dict = {\n",
    "    \"person\": {\n",
    "        \"name\": \"Alice\",\n",
    "        \"age\": 30\n",
    "    },\n",
    "    \"address\": {\n",
    "        \"city\": \"New York\",\n",
    "        \"zipcode\": 10001\n",
    "    }\n",
    "}\n",
    "print(nested_dict)\n",
    "print(nested_dict[\"person\"][\"name\"])  # Output: Alice\n"
   ]
  },
  {
   "cell_type": "markdown",
   "id": "ed5f2fa6-9a48-4be8-9fc7-cc3143aff279",
   "metadata": {},
   "source": [
    "***`summary table for dictionary operations`***\n",
    "\n",
    "| Operation                | Description                                        | Example                              | Output                        |\n",
    "|--------------------------|----------------------------------------------------|--------------------------------------|-------------------------------|\n",
    "| `my_dict = {}`           | Create an empty dictionary                         | `my_dict = {\"key\": \"value\"}`         | `{\"key\": \"value\"}`            |\n",
    "| `my_dict[key]`           | Access value for the specified key                 | `my_dict[\"name\"]`                    | `\"Alice\"`                     |\n",
    "| `my_dict[key] = value`   | Add or modify value for the specified key          | `my_dict[\"age\"] = 31`                | `{\"age\": 31}`                 |\n",
    "| `del my_dict[key]`       | Remove the specified key-value pair                | `del my_dict[\"is_student\"]`          | `{...}` (without `is_student`)|\n",
    "| `dict.keys()`            | Get a view of the dictionary's keys                | `my_dict.keys()`                     | `dict_keys([...])`            |\n",
    "| `dict.values()`          | Get a view of the dictionary's values              | `my_dict.values()`                   | `dict_values([...])`          |\n",
    "| `dict.items()`           | Get a view of the dictionary's key-value pairs     | `my_dict.items()`                    | `dict_items([...])`           |\n",
    "| `dict.get(key)`          | Get value for the specified key, or `None`         | `my_dict.get(\"occupation\")`          | `\"Engineer\"`                  |\n",
    "| `dict.pop(key)`          | Remove and return value for the specified key      | `my_dict.pop(\"city\")`                | `\"New York\"`                  |\n",
    "| `dict.update(other_dict)`| Update dictionary with key-value pairs from another dictionary or iterable | `my_dict.update(another_dict)` | `{\"hobby\": \"painting\", \"is_employed\": True}` |\n",
    "| Nested Dictionary        | Dictionaries can contain other dictionaries        | `nested_dict[\"person\"][\"name\"]`      | `\"Alice\"`                     |\n"
   ]
  },
  {
   "cell_type": "markdown",
   "id": "b1d03254-48ec-4790-ac56-e69cd184aa88",
   "metadata": {},
   "source": [
    "\n",
    "#### **7 Sets (set, frozenset):**\n",
    "set and frozenset are used to store collections of unique elements. Both types have some common characteristics, but set is mutable while frozenset is immutable.\n",
    "\n",
    "***`Creating a Set:`*** You can create a set using curly braces {} or the set() function."
   ]
  },
  {
   "cell_type": "code",
   "execution_count": 37,
   "id": "9e31ecf5-e8f4-4860-b1e5-0786fb5dcebd",
   "metadata": {},
   "outputs": [
    {
     "name": "stdout",
     "output_type": "stream",
     "text": [
      "{1, 2, 3, 4, 5}\n",
      "set()\n",
      "{1, 2, 3, 4}\n"
     ]
    }
   ],
   "source": [
    "\n",
    "# Creating a set\n",
    "my_set = {1, 2, 3, 4, 5}\n",
    "print(my_set)  # Output: {1, 2, 3, 4, 5}\n",
    "\n",
    "# Creating an empty set\n",
    "empty_set = set()\n",
    "print(empty_set)  # Output: set()\n",
    "\n",
    "# Creating a set from a list\n",
    "list_to_set = set([1, 2, 2, 3, 4])\n",
    "print(list_to_set)  # Output: {1, 2, 3, 4}\n"
   ]
  },
  {
   "cell_type": "markdown",
   "id": "b2c1789e-1642-425a-9cc1-524a0066937c",
   "metadata": {},
   "source": [
    "***`Set Methods:`*** Sets come with a variety of built-in methods. Here are a few commonly used ones:\n",
    "\n",
    " - **`add(x):`** Adds an element x to the set.\n",
    "\n",
    " - **`remove(x):`** Removes the element x from the set. Raises a KeyError if x is not found.\n",
    "\n",
    " - **`discard(x):`** Removes the element x from the set if it is present.\n",
    "\n",
    " - **`pop():`** Removes and returns an arbitrary element from the set.\n",
    "\n",
    " - **`clear():`** Removes all elements from the set.\n",
    "\n",
    " - **`union(set):`** Returns a new set with elements from both sets.\n",
    "\n",
    " - **`intersection(set):`** Returns a new set with elements common to both sets.\n",
    "\n",
    " - **`difference(set):`** Returns a new set with elements in the first set but not in the second.\n",
    "\n",
    " - **`symmetric_difference(set):`** Returns a new set with elements in either set but not both."
   ]
  },
  {
   "cell_type": "code",
   "execution_count": 38,
   "id": "5b2db283-2d8a-408a-b0e8-ffc24f89b7b9",
   "metadata": {},
   "outputs": [
    {
     "name": "stdout",
     "output_type": "stream",
     "text": [
      "After add(6): {1, 2, 3, 4, 5, 6}\n",
      "After remove(3): {1, 2, 4, 5, 6}\n",
      "After pop(): {2, 4, 5, 6} Popped element: 1\n",
      "After clear(): set()\n",
      "Union: {1, 2, 3, 4, 5}\n",
      "Intersection: {3}\n",
      "Difference: {1, 2}\n",
      "Symmetric Difference: {1, 2, 4, 5}\n"
     ]
    }
   ],
   "source": [
    "\n",
    "# Set methods\n",
    "my_set.add(6)\n",
    "print(\"After add(6):\", my_set)  \n",
    "\n",
    "my_set.remove(3)\n",
    "print(\"After remove(3):\", my_set)  \n",
    "\n",
    "my_set.discard(10)  \n",
    "\n",
    "popped_element = my_set.pop()\n",
    "print(\"After pop():\", my_set, \"Popped element:\", popped_element)\n",
    "\n",
    "my_set.clear()\n",
    "print(\"After clear():\", my_set)  \n",
    "\n",
    "set1 = {1, 2, 3}\n",
    "set2 = {3, 4, 5}\n",
    "\n",
    "union_set = set1.union(set2)\n",
    "print(\"Union:\", union_set)  \n",
    "\n",
    "intersection_set = set1.intersection(set2)\n",
    "print(\"Intersection:\", intersection_set)  \n",
    "\n",
    "difference_set = set1.difference(set2)\n",
    "print(\"Difference:\", difference_set)  \n",
    "\n",
    "symmetric_difference_set = set1.symmetric_difference(set2)\n",
    "print(\"Symmetric Difference:\", symmetric_difference_set)  \n"
   ]
  },
  {
   "cell_type": "markdown",
   "id": "ae8049a2-256a-4cb0-923b-716a5ac3fa5f",
   "metadata": {},
   "source": [
    "***`Creating a Frozenset:`*** You can create a frozenset using the frozenset() function. Frozensets are immutable, so you cannot add or remove elements after creation."
   ]
  },
  {
   "cell_type": "code",
   "execution_count": 39,
   "id": "4fcfac3a-dbdb-4c3c-9e0e-1cac2ac599a4",
   "metadata": {},
   "outputs": [
    {
     "name": "stdout",
     "output_type": "stream",
     "text": [
      "frozenset({1, 2, 3, 4, 5})\n"
     ]
    }
   ],
   "source": [
    "\n",
    "# Creating a frozenset\n",
    "my_frozenset = frozenset([1, 2, 3, 4, 5])\n",
    "print(my_frozenset)  # Output: frozenset({1, 2, 3, 4, 5})\n"
   ]
  },
  {
   "cell_type": "markdown",
   "id": "d6a19336-fdd1-4c5d-b75b-927430391984",
   "metadata": {},
   "source": [
    "***`Frozenset Methods:`*** Frozensets support the same methods as sets for union, intersection, difference, and symmetric difference, but do not support methods that modify the frozenset (such as **add()**, **remove()**, etc.)."
   ]
  },
  {
   "cell_type": "code",
   "execution_count": 42,
   "id": "428c659e-cb54-4633-a54c-d24c64f244a0",
   "metadata": {},
   "outputs": [
    {
     "name": "stdout",
     "output_type": "stream",
     "text": [
      "Union: frozenset({1, 2, 3, 4, 5})\n",
      "Intersection: frozenset({3})\n",
      "Difference: frozenset({1, 2})\n",
      "Symmetric Difference: frozenset({1, 2, 4, 5})\n"
     ]
    }
   ],
   "source": [
    "\n",
    "# Frozenset methods\n",
    "set1 = frozenset([1, 2, 3])\n",
    "set2 = frozenset([3, 4, 5])\n",
    "\n",
    "union_frozenset = set1.union(set2)\n",
    "print(\"Union:\", union_frozenset)  \n",
    "\n",
    "intersection_frozenset = set1.intersection(set2)\n",
    "print(\"Intersection:\", intersection_frozenset) \n",
    "\n",
    "difference_frozenset = set1.difference(set2)\n",
    "print(\"Difference:\", difference_frozenset)  \n",
    "\n",
    "symmetric_difference_frozenset = set1.symmetric_difference(set2)\n",
    "print(\"Symmetric Difference:\", symmetric_difference_frozenset)  \n"
   ]
  },
  {
   "cell_type": "markdown",
   "id": "50dedb22-3a0c-4d6e-b7f2-91784708c156",
   "metadata": {},
   "source": [
    "***`summary table for sets and frozensets`***\n",
    "\n",
    "| Operation                        | Description                                                   | Example                                 | Output                               |\n",
    "|----------------------------------|---------------------------------------------------------------|-----------------------------------------|--------------------------------------|\n",
    "| `my_set = {}`                    | Create an empty set                                           | `my_set = {1, 2, 3}`                    | `{1, 2, 3}`                          |\n",
    "| `my_set.add(x)`                  | Add element `x` to the set                                     | `my_set.add(4)`                         | `{1, 2, 3, 4}`                       |\n",
    "| `my_set.remove(x)`               | Remove element `x` from the set                                | `my_set.remove(2)`                      | `{1, 3, 4}`                          |\n",
    "| `my_set.discard(x)`              | Remove element `x` from the set if it exists                   | `my_set.discard(5)`                     | `{1, 3, 4}`                          |\n",
    "| `my_set.pop()`                   | Remove and return an arbitrary element from the set            | `element = my_set.pop()`                | Arbitrary element from the set       |\n",
    "| `my_set.clear()`                 | Remove all elements from the set                               | `my_set.clear()`                        | `set()`                              |\n",
    "| `set1.union(set2)`               | Return a new set with elements from both sets                  | `set1.union(set2)`                      | `{1, 2, 3, 4, 5}`                    |\n",
    "| `set1.intersection(set2)`        | Return a new set with elements common to both sets             | `set1.intersection(set2)`               | `{3}`                                |\n",
    "| `set1.difference(set2)`          | Return a new set with elements in set1 but not in set2         | `set1.difference(set2)`                 | `{1, 2}`                             |\n",
    "| `set1.symmetric_difference(set2)`| Return a new set with elements in either set but not both      | `set1.symmetric_difference(set2)`       | `{1, 2, 4, 5}`                       |\n",
    "| `frozenset([1, 2, 3])`           | Create a frozenset                                             | `frozenset([1, 2, 3])`                  | `frozenset({1, 2, 3})`               |\n",
    "| `set1.union(set2)`               | Return a new frozenset with elements from both frozensets      | `set1.union(set2)`                      | `frozenset({1, 2, 3, 4, 5})`         |\n",
    "| `set1.intersection(set2)`        | Return a new frozenset with elements common to both frozensets | `set1.intersection(set2)`               | `frozenset({3})`                     |\n",
    "| `set1.difference(set2)`          | Return a new frozenset with elements in set1 but not in set2   | `set1.difference(set2)`                 | `frozenset({1, 2})`                  |\n",
    "| `set1.symmetric_difference(set2)`| Return a new frozenset with elements in either set but not both| `set1.symmetric_difference(set2)`       | `frozenset({1, 2, 4, 5})`            |\n"
   ]
  },
  {
   "cell_type": "code",
   "execution_count": null,
   "id": "b2bfdeb5-fce1-42d4-b85c-462f98917cac",
   "metadata": {},
   "outputs": [],
   "source": []
  }
 ],
 "metadata": {
  "kernelspec": {
   "display_name": "Python 3 (ipykernel)",
   "language": "python",
   "name": "python3"
  },
  "language_info": {
   "codemirror_mode": {
    "name": "ipython",
    "version": 3
   },
   "file_extension": ".py",
   "mimetype": "text/x-python",
   "name": "python",
   "nbconvert_exporter": "python",
   "pygments_lexer": "ipython3",
   "version": "3.11.7"
  },
  "widgets": {
   "application/vnd.jupyter.widget-state+json": {
    "state": {},
    "version_major": 2,
    "version_minor": 0
   }
  }
 },
 "nbformat": 4,
 "nbformat_minor": 5
}
